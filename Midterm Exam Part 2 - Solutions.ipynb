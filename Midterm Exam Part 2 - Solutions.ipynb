{
 "cells": [
  {
   "cell_type": "markdown",
   "id": "7cb0e898",
   "metadata": {},
   "source": [
    "# Midterm Exam Part 2 - Solutions"
   ]
  },
  {
   "cell_type": "code",
   "execution_count": 1,
   "id": "6b63b11d",
   "metadata": {},
   "outputs": [],
   "source": [
    "# Import all necessary libraries and magics\n",
    "\n",
    "import numpy as np\n",
    "import matplotlib.pyplot as plt\n",
    "import pandas as pd\n",
    "%matplotlib inline\n",
    "plt.style.use('bmh')\n",
    "\n",
    "from sklearn.model_selection import train_test_split\n",
    "from sklearn.preprocessing import PolynomialFeatures\n",
    "from sklearn.linear_model import LinearRegression, Lasso\n",
    "from sklearn.ensemble import RandomForestClassifier\n",
    "from sklearn.preprocessing import MinMaxScaler, StandardScaler\n",
    "from sklearn.model_selection import KFold, StratifiedKFold, GridSearchCV\n",
    "from sklearn.pipeline import Pipeline\n",
    "from sklearn.metrics import classification_report, accuracy_score, confusion_matrix, mean_squared_error, r2_score\n",
    "from sklearn.decomposition import PCA\n",
    "from sklearn.discriminant_analysis import LinearDiscriminantAnalysis as LDA\n",
    "from sklearn.feature_selection import RFE\n",
    "from sklearn.neighbors import KNeighborsClassifier\n",
    "\n",
    "import warnings\n",
    "warnings.filterwarnings(\"ignore\")"
   ]
  },
  {
   "cell_type": "markdown",
   "id": "ad941094",
   "metadata": {},
   "source": [
    "# Question 8 (15 points)"
   ]
  },
  {
   "cell_type": "markdown",
   "id": "7390c394",
   "metadata": {},
   "source": [
    "**In this problem, you will be working with the computer hardware dataset (please download it [here](https://ufl.instructure.com/files/69563416/download?download_frd=1))**\n",
    "\n",
    "> **The computer hardware dataset contains data from 6 features: machine cycle time in nanoseconds (MYCT),  minimum main memory in kilobytes (MMIN),  maximum main memory in kilobytes (MMAX),  cache memory in kilobytes (CACH),  minimum channels in units (CHMIN), maximum channels in units (CHMAX).**\n",
    "> **And 1 target response: computer hardware relative performance (RP).**"
   ]
  },
  {
   "cell_type": "code",
   "execution_count": 2,
   "id": "b244c8ac",
   "metadata": {},
   "outputs": [
    {
     "data": {
      "text/html": [
       "<div>\n",
       "<style scoped>\n",
       "    .dataframe tbody tr th:only-of-type {\n",
       "        vertical-align: middle;\n",
       "    }\n",
       "\n",
       "    .dataframe tbody tr th {\n",
       "        vertical-align: top;\n",
       "    }\n",
       "\n",
       "    .dataframe thead th {\n",
       "        text-align: right;\n",
       "    }\n",
       "</style>\n",
       "<table border=\"1\" class=\"dataframe\">\n",
       "  <thead>\n",
       "    <tr style=\"text-align: right;\">\n",
       "      <th></th>\n",
       "      <th>MYCT</th>\n",
       "      <th>MMIN</th>\n",
       "      <th>MMAX</th>\n",
       "      <th>CACH</th>\n",
       "      <th>CHMIN</th>\n",
       "      <th>CHMAX</th>\n",
       "      <th>RP</th>\n",
       "    </tr>\n",
       "  </thead>\n",
       "  <tbody>\n",
       "    <tr>\n",
       "      <th>0</th>\n",
       "      <td>125</td>\n",
       "      <td>256</td>\n",
       "      <td>6000</td>\n",
       "      <td>256</td>\n",
       "      <td>16</td>\n",
       "      <td>128</td>\n",
       "      <td>198</td>\n",
       "    </tr>\n",
       "    <tr>\n",
       "      <th>1</th>\n",
       "      <td>29</td>\n",
       "      <td>8000</td>\n",
       "      <td>32000</td>\n",
       "      <td>32</td>\n",
       "      <td>8</td>\n",
       "      <td>32</td>\n",
       "      <td>269</td>\n",
       "    </tr>\n",
       "    <tr>\n",
       "      <th>2</th>\n",
       "      <td>29</td>\n",
       "      <td>8000</td>\n",
       "      <td>32000</td>\n",
       "      <td>32</td>\n",
       "      <td>8</td>\n",
       "      <td>32</td>\n",
       "      <td>220</td>\n",
       "    </tr>\n",
       "    <tr>\n",
       "      <th>3</th>\n",
       "      <td>29</td>\n",
       "      <td>8000</td>\n",
       "      <td>32000</td>\n",
       "      <td>32</td>\n",
       "      <td>8</td>\n",
       "      <td>32</td>\n",
       "      <td>172</td>\n",
       "    </tr>\n",
       "    <tr>\n",
       "      <th>4</th>\n",
       "      <td>29</td>\n",
       "      <td>8000</td>\n",
       "      <td>16000</td>\n",
       "      <td>32</td>\n",
       "      <td>8</td>\n",
       "      <td>16</td>\n",
       "      <td>132</td>\n",
       "    </tr>\n",
       "    <tr>\n",
       "      <th>...</th>\n",
       "      <td>...</td>\n",
       "      <td>...</td>\n",
       "      <td>...</td>\n",
       "      <td>...</td>\n",
       "      <td>...</td>\n",
       "      <td>...</td>\n",
       "      <td>...</td>\n",
       "    </tr>\n",
       "    <tr>\n",
       "      <th>204</th>\n",
       "      <td>124</td>\n",
       "      <td>1000</td>\n",
       "      <td>8000</td>\n",
       "      <td>0</td>\n",
       "      <td>1</td>\n",
       "      <td>8</td>\n",
       "      <td>42</td>\n",
       "    </tr>\n",
       "    <tr>\n",
       "      <th>205</th>\n",
       "      <td>98</td>\n",
       "      <td>1000</td>\n",
       "      <td>8000</td>\n",
       "      <td>32</td>\n",
       "      <td>2</td>\n",
       "      <td>8</td>\n",
       "      <td>46</td>\n",
       "    </tr>\n",
       "    <tr>\n",
       "      <th>206</th>\n",
       "      <td>125</td>\n",
       "      <td>2000</td>\n",
       "      <td>8000</td>\n",
       "      <td>0</td>\n",
       "      <td>2</td>\n",
       "      <td>14</td>\n",
       "      <td>52</td>\n",
       "    </tr>\n",
       "    <tr>\n",
       "      <th>207</th>\n",
       "      <td>480</td>\n",
       "      <td>512</td>\n",
       "      <td>8000</td>\n",
       "      <td>32</td>\n",
       "      <td>0</td>\n",
       "      <td>0</td>\n",
       "      <td>67</td>\n",
       "    </tr>\n",
       "    <tr>\n",
       "      <th>208</th>\n",
       "      <td>480</td>\n",
       "      <td>1000</td>\n",
       "      <td>4000</td>\n",
       "      <td>0</td>\n",
       "      <td>0</td>\n",
       "      <td>0</td>\n",
       "      <td>45</td>\n",
       "    </tr>\n",
       "  </tbody>\n",
       "</table>\n",
       "<p>209 rows × 7 columns</p>\n",
       "</div>"
      ],
      "text/plain": [
       "     MYCT  MMIN   MMAX  CACH  CHMIN  CHMAX   RP\n",
       "0     125   256   6000   256     16    128  198\n",
       "1      29  8000  32000    32      8     32  269\n",
       "2      29  8000  32000    32      8     32  220\n",
       "3      29  8000  32000    32      8     32  172\n",
       "4      29  8000  16000    32      8     16  132\n",
       "..    ...   ...    ...   ...    ...    ...  ...\n",
       "204   124  1000   8000     0      1      8   42\n",
       "205    98  1000   8000    32      2      8   46\n",
       "206   125  2000   8000     0      2     14   52\n",
       "207   480   512   8000    32      0      0   67\n",
       "208   480  1000   4000     0      0      0   45\n",
       "\n",
       "[209 rows x 7 columns]"
      ]
     },
     "execution_count": 2,
     "metadata": {},
     "output_type": "execute_result"
    }
   ],
   "source": [
    "import pandas as pd\n",
    "\n",
    "df_hardware = pd.read_csv('computer_hardware.csv')\n",
    "df_hardware"
   ]
  },
  {
   "cell_type": "code",
   "execution_count": 3,
   "id": "50b2e27b",
   "metadata": {},
   "outputs": [
    {
     "data": {
      "text/plain": [
       "((209, 6), (209,))"
      ]
     },
     "execution_count": 3,
     "metadata": {},
     "output_type": "execute_result"
    }
   ],
   "source": [
    "X = df_hardware[df_hardware.columns[:-1]]\n",
    "t = df_hardware[df_hardware.columns[-1]]\n",
    "\n",
    "X.shape, t.shape"
   ]
  },
  {
   "cell_type": "markdown",
   "id": "cb0e5550",
   "metadata": {},
   "source": [
    "**Answer the following questions:**\n",
    "\n",
    "1. **(2 points) Split the data into training and test using an 80/20 random split.**"
   ]
  },
  {
   "cell_type": "code",
   "execution_count": 4,
   "id": "9ec83873",
   "metadata": {},
   "outputs": [
    {
     "data": {
      "text/plain": [
       "((167, 6), (167,), (42, 6), (42,))"
      ]
     },
     "execution_count": 4,
     "metadata": {},
     "output_type": "execute_result"
    }
   ],
   "source": [
    "X_train, X_test, t_train, t_test = train_test_split(X,t, test_size=0.2, shuffle=True)\n",
    "\n",
    "X_train.shape, t_train.shape, X_test.shape, t_test.shape"
   ]
  },
  {
   "cell_type": "markdown",
   "id": "22140a9c",
   "metadata": {},
   "source": [
    "2. **(5 points) Train a linear regression model with the Lasso regularizer on this dataset. Build a ```scikit-learn``` pipeline to carry the experimental design on its parameters (regularizer hyperparameter ```alpha```) with a 3-fold cross-validation scheme and the mean squared error (MSE) as the performance measure. Be sure to include all steps when building the model pipeline.**"
   ]
  },
  {
   "cell_type": "code",
   "execution_count": 5,
   "id": "73c34881",
   "metadata": {},
   "outputs": [
    {
     "name": "stdout",
     "output_type": "stream",
     "text": [
      "{'LR__alpha': 0.0}\n"
     ]
    }
   ],
   "source": [
    "pipe = Pipeline(steps=[('Scaling', MinMaxScaler()),\n",
    "                      ('LR',Lasso())])\n",
    "\n",
    "cv = KFold(n_splits=3, shuffle=True)\n",
    "\n",
    "param_grid = dict(LR__alpha=np.linspace(0,5,100))\n",
    "grid_search = GridSearchCV(pipe, param_grid, cv=cv, scoring='neg_mean_squared_error')\n",
    "grid_search.fit(X_train, t_train)\n",
    "\n",
    "print(grid_search.best_params_)"
   ]
  },
  {
   "cell_type": "code",
   "execution_count": 6,
   "id": "6f3fe6b9",
   "metadata": {},
   "outputs": [
    {
     "data": {
      "text/plain": [
       "Pipeline(steps=[('Scaling', MinMaxScaler()), ('LR', Lasso(alpha=0.0))])"
      ]
     },
     "execution_count": 6,
     "metadata": {},
     "output_type": "execute_result"
    }
   ],
   "source": [
    "# Training final model\n",
    "final_model = grid_search.best_estimator_\n",
    "\n",
    "final_model"
   ]
  },
  {
   "cell_type": "code",
   "execution_count": 7,
   "id": "8c5b028c",
   "metadata": {},
   "outputs": [],
   "source": [
    "# Predicting labels for training/test sets\n",
    "y_train = final_model.predict(X_train)\n",
    "y_test = final_model.predict(X_test)"
   ]
  },
  {
   "cell_type": "markdown",
   "id": "fad23520",
   "metadata": {},
   "source": [
    "3. **(3 points) Report the final model's performance using the mean squared error and coefficient of determination ($r^2$-score. Discuss your observations (in a ```markdown``` cell), namely whether or not the final performance is indicative of overfitting.**"
   ]
  },
  {
   "cell_type": "code",
   "execution_count": 8,
   "id": "460b129d",
   "metadata": {},
   "outputs": [
    {
     "name": "stdout",
     "output_type": "stream",
     "text": [
      "Training Set \n",
      " Mean Squared Error =  3747.855503456\n",
      "R2 score =  0.8743414555407824 \n",
      "\n",
      "\n",
      "Test Set \n",
      " Mean Squared Error =  2772.598128567015\n",
      "R2 score =  0.6453921036455441\n"
     ]
    }
   ],
   "source": [
    "print('Training Set \\n Mean Squared Error = ', mean_squared_error(t_train, y_train))\n",
    "print('R2 score = ', r2_score(t_train, y_train), '\\n\\n')\n",
    "print('Test Set \\n Mean Squared Error = ', mean_squared_error(t_test, y_test))\n",
    "print('R2 score = ', r2_score(t_test, y_test))"
   ]
  },
  {
   "cell_type": "markdown",
   "id": "78f26a41",
   "metadata": {},
   "source": [
    "The performance in both training and test sets are larger than 90%, which indicates a good fit. However, in terms of the r2-score, the performance in the test set is much lower. But the performance in terms of MSE is performing better than training. Looking at the plots below, we see that the training data contains a significantly larger number of outliers thus contributing to the MSE heavily."
   ]
  },
  {
   "cell_type": "markdown",
   "id": "69cd7028",
   "metadata": {},
   "source": [
    "4. **(2 points) Visualize the model prediction vs the true labels for both training and test sets.**"
   ]
  },
  {
   "cell_type": "code",
   "execution_count": 9,
   "id": "a4be9afb",
   "metadata": {},
   "outputs": [
    {
     "data": {
      "image/png": "[encoded data removed]",
      "text/plain": [
       "<Figure size 1080x360 with 2 Axes>"
      ]
     },
     "metadata": {
      "needs_background": "light"
     },
     "output_type": "display_data"
    }
   ],
   "source": [
    "xline = np.linspace(0,1300,1301)\n",
    "\n",
    "plt.figure(figsize=(15,5))\n",
    "plt.subplot(1,2,1)\n",
    "plt.scatter(t_train, y_train); plt.plot(xline, xline, 'r')\n",
    "plt.title('Training Set'); plt.xlabel('True Target'); plt.ylabel('Predicted Target')\n",
    "plt.subplot(1,2,2)\n",
    "plt.scatter(t_test, y_test); plt.plot(xline, xline, 'r')\n",
    "plt.title('Test Set'); plt.xlabel('True Target'); plt.ylabel('Predicted Target');"
   ]
  },
  {
   "cell_type": "markdown",
   "id": "5c5cf0cd",
   "metadata": {},
   "source": [
    "5. **(3 points) Visualize the final weight coefficients. Which feature contributes the most to predict the target value?**"
   ]
  },
  {
   "cell_type": "code",
   "execution_count": 10,
   "id": "593a1925",
   "metadata": {},
   "outputs": [
    {
     "name": "stdout",
     "output_type": "stream",
     "text": [
      "[-53.68214876  69.21654957 536.94911234 321.42972676 170.93338702\n",
      " -54.71765048 332.24481976]\n"
     ]
    },
    {
     "data": {
      "image/png": "[encoded data removed]",
      "text/plain": [
       "<Figure size 1080x360 with 1 Axes>"
      ]
     },
     "metadata": {
      "needs_background": "light"
     },
     "output_type": "display_data"
    }
   ],
   "source": [
    "#Creating a vector will all the coefficients\n",
    "coefs = np.hstack((final_model.named_steps['LR'].intercept_,\n",
    "                  final_model.named_steps['LR'].coef_))\n",
    "print(coefs)\n",
    "\n",
    "plt.figure(figsize=(15,5))\n",
    "plt.stem(coefs)\n",
    "plt.xticks(range(len(coefs)),['$w_0$\\n intercept']+\n",
    "           ['$w_{'+str(x)+'}$\\n'+df_hardware.columns[x] for x in range(0,len(coefs)-1)], size=15);"
   ]
  },
  {
   "cell_type": "markdown",
   "id": "a824e22a",
   "metadata": {},
   "source": [
    "The feature minimum main memory in kilobytes (MMIN) has a larger magnitude weight contribution to the target variable and minimum channels in units (CHMIN) has the smallest contribution."
   ]
  },
  {
   "cell_type": "markdown",
   "id": "26be49ad",
   "metadata": {},
   "source": [
    "---"
   ]
  },
  {
   "cell_type": "markdown",
   "id": "fea08279",
   "metadata": {},
   "source": [
    "# Question 9 (15 points)"
   ]
  },
  {
   "cell_type": "markdown",
   "id": "485b3244",
   "metadata": {},
   "source": [
    "**In this problem, you will be working with the Mushroom dataset (please download it [here](https://ufl.instructure.com/files/69563261/download?download_frd=1)).**\n",
    "\n",
    "> **This dataset includes descriptions of hypothetical samples corresponding to 23 species of gilled mushrooms in the Agaricus and Lepiota Family. Each species is identified as edible (```Target=1```) or poisonous/not recommended (```Target=0```).**"
   ]
  },
  {
   "cell_type": "code",
   "execution_count": 11,
   "id": "b7d5658b",
   "metadata": {},
   "outputs": [
    {
     "data": {
      "text/html": [
       "<div>\n",
       "<style scoped>\n",
       "    .dataframe tbody tr th:only-of-type {\n",
       "        vertical-align: middle;\n",
       "    }\n",
       "\n",
       "    .dataframe tbody tr th {\n",
       "        vertical-align: top;\n",
       "    }\n",
       "\n",
       "    .dataframe thead th {\n",
       "        text-align: right;\n",
       "    }\n",
       "</style>\n",
       "<table border=\"1\" class=\"dataframe\">\n",
       "  <thead>\n",
       "    <tr style=\"text-align: right;\">\n",
       "      <th></th>\n",
       "      <th>Target</th>\n",
       "      <th>Cap Shape</th>\n",
       "      <th>Cap Surface</th>\n",
       "      <th>Cap Color</th>\n",
       "      <th>Bruises?</th>\n",
       "      <th>Odor</th>\n",
       "      <th>Gill Attachment</th>\n",
       "      <th>Gill Spacing</th>\n",
       "      <th>Gill Size</th>\n",
       "      <th>Gill Color</th>\n",
       "      <th>...</th>\n",
       "      <th>Stalk Surface Below Ring</th>\n",
       "      <th>Stalk Color Above Ring</th>\n",
       "      <th>Stalk Color Below Ring</th>\n",
       "      <th>Veil Type</th>\n",
       "      <th>Veil Color</th>\n",
       "      <th>Ring Number</th>\n",
       "      <th>Ring Type</th>\n",
       "      <th>Spore Print Color</th>\n",
       "      <th>Population</th>\n",
       "      <th>Habitat</th>\n",
       "    </tr>\n",
       "  </thead>\n",
       "  <tbody>\n",
       "    <tr>\n",
       "      <th>0</th>\n",
       "      <td>0</td>\n",
       "      <td>2</td>\n",
       "      <td>3</td>\n",
       "      <td>0</td>\n",
       "      <td>1</td>\n",
       "      <td>7</td>\n",
       "      <td>1</td>\n",
       "      <td>0</td>\n",
       "      <td>1</td>\n",
       "      <td>0</td>\n",
       "      <td>...</td>\n",
       "      <td>3</td>\n",
       "      <td>7</td>\n",
       "      <td>7</td>\n",
       "      <td>0</td>\n",
       "      <td>2</td>\n",
       "      <td>1</td>\n",
       "      <td>5</td>\n",
       "      <td>0</td>\n",
       "      <td>3</td>\n",
       "      <td>4</td>\n",
       "    </tr>\n",
       "    <tr>\n",
       "      <th>1</th>\n",
       "      <td>1</td>\n",
       "      <td>2</td>\n",
       "      <td>3</td>\n",
       "      <td>9</td>\n",
       "      <td>1</td>\n",
       "      <td>0</td>\n",
       "      <td>1</td>\n",
       "      <td>0</td>\n",
       "      <td>0</td>\n",
       "      <td>0</td>\n",
       "      <td>...</td>\n",
       "      <td>3</td>\n",
       "      <td>7</td>\n",
       "      <td>7</td>\n",
       "      <td>0</td>\n",
       "      <td>2</td>\n",
       "      <td>1</td>\n",
       "      <td>5</td>\n",
       "      <td>1</td>\n",
       "      <td>2</td>\n",
       "      <td>0</td>\n",
       "    </tr>\n",
       "    <tr>\n",
       "      <th>2</th>\n",
       "      <td>1</td>\n",
       "      <td>0</td>\n",
       "      <td>3</td>\n",
       "      <td>8</td>\n",
       "      <td>1</td>\n",
       "      <td>1</td>\n",
       "      <td>1</td>\n",
       "      <td>0</td>\n",
       "      <td>0</td>\n",
       "      <td>1</td>\n",
       "      <td>...</td>\n",
       "      <td>3</td>\n",
       "      <td>7</td>\n",
       "      <td>7</td>\n",
       "      <td>0</td>\n",
       "      <td>2</td>\n",
       "      <td>1</td>\n",
       "      <td>5</td>\n",
       "      <td>1</td>\n",
       "      <td>2</td>\n",
       "      <td>2</td>\n",
       "    </tr>\n",
       "    <tr>\n",
       "      <th>3</th>\n",
       "      <td>0</td>\n",
       "      <td>2</td>\n",
       "      <td>2</td>\n",
       "      <td>8</td>\n",
       "      <td>1</td>\n",
       "      <td>7</td>\n",
       "      <td>1</td>\n",
       "      <td>0</td>\n",
       "      <td>1</td>\n",
       "      <td>1</td>\n",
       "      <td>...</td>\n",
       "      <td>3</td>\n",
       "      <td>7</td>\n",
       "      <td>7</td>\n",
       "      <td>0</td>\n",
       "      <td>2</td>\n",
       "      <td>1</td>\n",
       "      <td>5</td>\n",
       "      <td>0</td>\n",
       "      <td>3</td>\n",
       "      <td>4</td>\n",
       "    </tr>\n",
       "    <tr>\n",
       "      <th>4</th>\n",
       "      <td>1</td>\n",
       "      <td>2</td>\n",
       "      <td>3</td>\n",
       "      <td>3</td>\n",
       "      <td>0</td>\n",
       "      <td>6</td>\n",
       "      <td>1</td>\n",
       "      <td>1</td>\n",
       "      <td>0</td>\n",
       "      <td>0</td>\n",
       "      <td>...</td>\n",
       "      <td>3</td>\n",
       "      <td>7</td>\n",
       "      <td>7</td>\n",
       "      <td>0</td>\n",
       "      <td>2</td>\n",
       "      <td>1</td>\n",
       "      <td>1</td>\n",
       "      <td>1</td>\n",
       "      <td>0</td>\n",
       "      <td>0</td>\n",
       "    </tr>\n",
       "    <tr>\n",
       "      <th>...</th>\n",
       "      <td>...</td>\n",
       "      <td>...</td>\n",
       "      <td>...</td>\n",
       "      <td>...</td>\n",
       "      <td>...</td>\n",
       "      <td>...</td>\n",
       "      <td>...</td>\n",
       "      <td>...</td>\n",
       "      <td>...</td>\n",
       "      <td>...</td>\n",
       "      <td>...</td>\n",
       "      <td>...</td>\n",
       "      <td>...</td>\n",
       "      <td>...</td>\n",
       "      <td>...</td>\n",
       "      <td>...</td>\n",
       "      <td>...</td>\n",
       "      <td>...</td>\n",
       "      <td>...</td>\n",
       "      <td>...</td>\n",
       "      <td>...</td>\n",
       "    </tr>\n",
       "    <tr>\n",
       "      <th>8119</th>\n",
       "      <td>1</td>\n",
       "      <td>4</td>\n",
       "      <td>3</td>\n",
       "      <td>0</td>\n",
       "      <td>0</td>\n",
       "      <td>6</td>\n",
       "      <td>0</td>\n",
       "      <td>0</td>\n",
       "      <td>0</td>\n",
       "      <td>11</td>\n",
       "      <td>...</td>\n",
       "      <td>3</td>\n",
       "      <td>4</td>\n",
       "      <td>4</td>\n",
       "      <td>0</td>\n",
       "      <td>1</td>\n",
       "      <td>1</td>\n",
       "      <td>5</td>\n",
       "      <td>2</td>\n",
       "      <td>1</td>\n",
       "      <td>1</td>\n",
       "    </tr>\n",
       "    <tr>\n",
       "      <th>8120</th>\n",
       "      <td>1</td>\n",
       "      <td>2</td>\n",
       "      <td>3</td>\n",
       "      <td>0</td>\n",
       "      <td>0</td>\n",
       "      <td>6</td>\n",
       "      <td>0</td>\n",
       "      <td>0</td>\n",
       "      <td>0</td>\n",
       "      <td>11</td>\n",
       "      <td>...</td>\n",
       "      <td>3</td>\n",
       "      <td>4</td>\n",
       "      <td>4</td>\n",
       "      <td>0</td>\n",
       "      <td>0</td>\n",
       "      <td>1</td>\n",
       "      <td>5</td>\n",
       "      <td>2</td>\n",
       "      <td>4</td>\n",
       "      <td>1</td>\n",
       "    </tr>\n",
       "    <tr>\n",
       "      <th>8121</th>\n",
       "      <td>1</td>\n",
       "      <td>3</td>\n",
       "      <td>3</td>\n",
       "      <td>0</td>\n",
       "      <td>0</td>\n",
       "      <td>6</td>\n",
       "      <td>0</td>\n",
       "      <td>0</td>\n",
       "      <td>0</td>\n",
       "      <td>1</td>\n",
       "      <td>...</td>\n",
       "      <td>3</td>\n",
       "      <td>4</td>\n",
       "      <td>4</td>\n",
       "      <td>0</td>\n",
       "      <td>1</td>\n",
       "      <td>1</td>\n",
       "      <td>5</td>\n",
       "      <td>2</td>\n",
       "      <td>1</td>\n",
       "      <td>1</td>\n",
       "    </tr>\n",
       "    <tr>\n",
       "      <th>8122</th>\n",
       "      <td>0</td>\n",
       "      <td>4</td>\n",
       "      <td>2</td>\n",
       "      <td>0</td>\n",
       "      <td>0</td>\n",
       "      <td>3</td>\n",
       "      <td>1</td>\n",
       "      <td>0</td>\n",
       "      <td>1</td>\n",
       "      <td>2</td>\n",
       "      <td>...</td>\n",
       "      <td>2</td>\n",
       "      <td>7</td>\n",
       "      <td>7</td>\n",
       "      <td>0</td>\n",
       "      <td>2</td>\n",
       "      <td>1</td>\n",
       "      <td>1</td>\n",
       "      <td>7</td>\n",
       "      <td>4</td>\n",
       "      <td>1</td>\n",
       "    </tr>\n",
       "    <tr>\n",
       "      <th>8123</th>\n",
       "      <td>1</td>\n",
       "      <td>2</td>\n",
       "      <td>3</td>\n",
       "      <td>0</td>\n",
       "      <td>0</td>\n",
       "      <td>6</td>\n",
       "      <td>0</td>\n",
       "      <td>0</td>\n",
       "      <td>0</td>\n",
       "      <td>11</td>\n",
       "      <td>...</td>\n",
       "      <td>3</td>\n",
       "      <td>4</td>\n",
       "      <td>4</td>\n",
       "      <td>0</td>\n",
       "      <td>1</td>\n",
       "      <td>1</td>\n",
       "      <td>5</td>\n",
       "      <td>5</td>\n",
       "      <td>1</td>\n",
       "      <td>1</td>\n",
       "    </tr>\n",
       "  </tbody>\n",
       "</table>\n",
       "<p>8124 rows × 23 columns</p>\n",
       "</div>"
      ],
      "text/plain": [
       "      Target  Cap Shape  Cap Surface  Cap Color  Bruises?  Odor  \\\n",
       "0          0          2            3          0         1     7   \n",
       "1          1          2            3          9         1     0   \n",
       "2          1          0            3          8         1     1   \n",
       "3          0          2            2          8         1     7   \n",
       "4          1          2            3          3         0     6   \n",
       "...      ...        ...          ...        ...       ...   ...   \n",
       "8119       1          4            3          0         0     6   \n",
       "8120       1          2            3          0         0     6   \n",
       "8121       1          3            3          0         0     6   \n",
       "8122       0          4            2          0         0     3   \n",
       "8123       1          2            3          0         0     6   \n",
       "\n",
       "      Gill Attachment  Gill Spacing  Gill Size  Gill Color  ...  \\\n",
       "0                   1             0          1           0  ...   \n",
       "1                   1             0          0           0  ...   \n",
       "2                   1             0          0           1  ...   \n",
       "3                   1             0          1           1  ...   \n",
       "4                   1             1          0           0  ...   \n",
       "...               ...           ...        ...         ...  ...   \n",
       "8119                0             0          0          11  ...   \n",
       "8120                0             0          0          11  ...   \n",
       "8121                0             0          0           1  ...   \n",
       "8122                1             0          1           2  ...   \n",
       "8123                0             0          0          11  ...   \n",
       "\n",
       "      Stalk Surface Below Ring  Stalk Color Above Ring  \\\n",
       "0                            3                       7   \n",
       "1                            3                       7   \n",
       "2                            3                       7   \n",
       "3                            3                       7   \n",
       "4                            3                       7   \n",
       "...                        ...                     ...   \n",
       "8119                         3                       4   \n",
       "8120                         3                       4   \n",
       "8121                         3                       4   \n",
       "8122                         2                       7   \n",
       "8123                         3                       4   \n",
       "\n",
       "      Stalk Color Below Ring  Veil Type  Veil Color  Ring Number  Ring Type  \\\n",
       "0                          7          0           2            1          5   \n",
       "1                          7          0           2            1          5   \n",
       "2                          7          0           2            1          5   \n",
       "3                          7          0           2            1          5   \n",
       "4                          7          0           2            1          1   \n",
       "...                      ...        ...         ...          ...        ...   \n",
       "8119                       4          0           1            1          5   \n",
       "8120                       4          0           0            1          5   \n",
       "8121                       4          0           1            1          5   \n",
       "8122                       7          0           2            1          1   \n",
       "8123                       4          0           1            1          5   \n",
       "\n",
       "      Spore Print Color  Population  Habitat  \n",
       "0                     0           3        4  \n",
       "1                     1           2        0  \n",
       "2                     1           2        2  \n",
       "3                     0           3        4  \n",
       "4                     1           0        0  \n",
       "...                 ...         ...      ...  \n",
       "8119                  2           1        1  \n",
       "8120                  2           4        1  \n",
       "8121                  2           1        1  \n",
       "8122                  7           4        1  \n",
       "8123                  5           1        1  \n",
       "\n",
       "[8124 rows x 23 columns]"
      ]
     },
     "execution_count": 11,
     "metadata": {},
     "output_type": "execute_result"
    }
   ],
   "source": [
    "import pandas as pd\n",
    "\n",
    "df_mushroom = pd.read_csv('mushroom-dataset.csv')\n",
    "df_mushroom"
   ]
  },
  {
   "cell_type": "code",
   "execution_count": 12,
   "id": "4ea35d8f",
   "metadata": {},
   "outputs": [
    {
     "data": {
      "text/plain": [
       "((8124, 22), (8124,))"
      ]
     },
     "execution_count": 12,
     "metadata": {},
     "output_type": "execute_result"
    }
   ],
   "source": [
    "X = df_mushroom[df_mushroom.columns[1:]].to_numpy()\n",
    "t = df_mushroom[df_mushroom.columns[0]].to_numpy()\n",
    "\n",
    "X.shape, t.shape"
   ]
  },
  {
   "cell_type": "markdown",
   "id": "1b0554ea",
   "metadata": {},
   "source": [
    "**Answer the following questions:**\n",
    "\n",
    "1. **(2 points) Split the data into training and test sets using 80/20 split.**"
   ]
  },
  {
   "cell_type": "code",
   "execution_count": 13,
   "id": "d9b384d2",
   "metadata": {},
   "outputs": [
    {
     "data": {
      "text/plain": [
       "((6499, 22), (6499,), (1625, 22), (1625,))"
      ]
     },
     "execution_count": 13,
     "metadata": {},
     "output_type": "execute_result"
    }
   ],
   "source": [
    "X_train, X_test, t_train, t_test = train_test_split(X, t, test_size=0.2, shuffle=True, stratify=t)\n",
    "\n",
    "X_train.shape, t_train.shape, X_test.shape, t_test.shape"
   ]
  },
  {
   "cell_type": "markdown",
   "id": "46f1696d",
   "metadata": {},
   "source": [
    "2. **(11 points) Suppose you want to train a random forest classifier on this dataset. Build a ```scikit-learn``` pipeline to carry the experimental design on its parameters (number of trees and maximum depth for each tree) with a 4-fold stratified cross-validation scheme and the F1-score as the performance measure. Be sure to include all steps when building the model pipeline.**\n",
    "\n",
    "**(Note: the grid search does not have to be exhaustive but illustrative enough to show that you know how to utilize the different ```scikit-learn``` objects. A total of 4 or 5 options for each parameter suffices.)**"
   ]
  },
  {
   "cell_type": "code",
   "execution_count": 14,
   "id": "2983c3df",
   "metadata": {},
   "outputs": [
    {
     "name": "stdout",
     "output_type": "stream",
     "text": [
      "{'RF__max_depth': 6, 'RF__n_estimators': 200}\n"
     ]
    }
   ],
   "source": [
    "# Pipeline\n",
    "pipe = Pipeline(steps=[('Scaling', MinMaxScaler()),\n",
    "                      ('RF', RandomForestClassifier())])\n",
    "\n",
    "# 4-fold Stratified Cross-Validation\n",
    "cv = StratifiedKFold(n_splits=4, shuffle=True)\n",
    "\n",
    "# Parameter Grid Search\n",
    "param_grid = dict(RF__n_estimators=[200,250,300, 350],\n",
    "                  RF__max_depth=['None',3,4,5,6,10])\n",
    "grid_search = GridSearchCV(pipe, param_grid, scoring='f1', cv=cv)\n",
    "\n",
    "# Perform Experimental Design\n",
    "grid_search.fit(X_train, t_train)\n",
    "print(grid_search.best_params_)"
   ]
  },
  {
   "cell_type": "code",
   "execution_count": 15,
   "id": "cae62759",
   "metadata": {},
   "outputs": [
    {
     "data": {
      "text/plain": [
       "Pipeline(steps=[('Scaling', MinMaxScaler()),\n",
       "                ('RF', RandomForestClassifier(max_depth=6, n_estimators=200))])"
      ]
     },
     "execution_count": 15,
     "metadata": {},
     "output_type": "execute_result"
    }
   ],
   "source": [
    "# Training final model\n",
    "final_model = grid_search.best_estimator_\n",
    "\n",
    "final_model"
   ]
  },
  {
   "cell_type": "code",
   "execution_count": 16,
   "id": "6e3c313c",
   "metadata": {},
   "outputs": [],
   "source": [
    "# Predicting labels for training/test sets\n",
    "y_train = final_model.predict(X_train)\n",
    "y_test = final_model.predict(X_test)"
   ]
  },
  {
   "cell_type": "markdown",
   "id": "8b0f1cdb",
   "metadata": {},
   "source": [
    "3. **(4 points) Report the final model's performance with the accuracy report and confusion matrices. Discuss your observations (using a ```markdown``` cell), namely whether or not the final performance is indicative of overfitting.**"
   ]
  },
  {
   "cell_type": "code",
   "execution_count": 17,
   "id": "a3e51de3",
   "metadata": {},
   "outputs": [
    {
     "name": "stdout",
     "output_type": "stream",
     "text": [
      "Training Set \n",
      " Classification Report:\n",
      "              precision    recall  f1-score   support\n",
      "\n",
      "           0       1.00      1.00      1.00      3133\n",
      "           1       1.00      1.00      1.00      3366\n",
      "\n",
      "    accuracy                           1.00      6499\n",
      "   macro avg       1.00      1.00      1.00      6499\n",
      "weighted avg       1.00      1.00      1.00      6499\n",
      "\n",
      "\n",
      " Confusion Matrix: \n",
      "[[3133    0]\n",
      " [   0 3366]]\n",
      "\n",
      "\n",
      " ======== \n",
      "\n",
      " Test Set \n",
      " Classification Report\n",
      "              precision    recall  f1-score   support\n",
      "\n",
      "           0       1.00      1.00      1.00       783\n",
      "           1       1.00      1.00      1.00       842\n",
      "\n",
      "    accuracy                           1.00      1625\n",
      "   macro avg       1.00      1.00      1.00      1625\n",
      "weighted avg       1.00      1.00      1.00      1625\n",
      "\n",
      "\n",
      " Confusion Matrix:\n",
      "[[783   0]\n",
      " [  0 842]]\n"
     ]
    }
   ],
   "source": [
    "print('Training Set \\n Classification Report:')\n",
    "print(classification_report(t_train, y_train))\n",
    "print('\\n Confusion Matrix: ')\n",
    "print(confusion_matrix(t_train, y_train))\n",
    "print('\\n\\n ======== \\n\\n Test Set \\n Classification Report')\n",
    "print(classification_report(t_test, y_test))\n",
    "print('\\n Confusion Matrix:')\n",
    "print(confusion_matrix(t_test, y_test))"
   ]
  },
  {
   "cell_type": "markdown",
   "id": "ad6fb257",
   "metadata": {},
   "source": [
    "The model performs at 100% for both training and test sets. "
   ]
  },
  {
   "cell_type": "markdown",
   "id": "6c8ff16c",
   "metadata": {},
   "source": [
    "---"
   ]
  },
  {
   "cell_type": "markdown",
   "id": "4025e314",
   "metadata": {},
   "source": [
    "# Question 10 (20 points)"
   ]
  },
  {
   "cell_type": "markdown",
   "id": "d73796ef",
   "metadata": {},
   "source": [
    "**In this problem, you will be working with the digits dataset:**"
   ]
  },
  {
   "cell_type": "code",
   "execution_count": 18,
   "id": "aa0cb635",
   "metadata": {},
   "outputs": [
    {
     "name": "stdout",
     "output_type": "stream",
     "text": [
      ".. _digits_dataset:\n",
      "\n",
      "Optical recognition of handwritten digits dataset\n",
      "--------------------------------------------------\n",
      "\n",
      "**Data Set Characteristics:**\n",
      "\n",
      "    :Number of Instances: 1797\n",
      "    :Number of Attributes: 64\n",
      "    :Attribute Information: 8x8 image of integer pixels in the range 0..16.\n",
      "    :Missing Attribute Values: None\n",
      "    :Creator: E. Alpaydin (alpaydin '@' boun.edu.tr)\n",
      "    :Date: July; 1998\n",
      "\n",
      "This is a copy of the test set of the UCI ML hand-written digits datasets\n",
      "https://archive.ics.uci.edu/ml/datasets/Optical+Recognition+of+Handwritten+Digits\n",
      "\n",
      "The data set contains images of hand-written digits: 10 classes where\n",
      "each class refers to a digit.\n",
      "\n",
      "Preprocessing programs made available by NIST were used to extract\n",
      "normalized bitmaps of handwritten digits from a preprinted form. From a\n",
      "total of 43 people, 30 contributed to the training set and different 13\n",
      "to the test set. 32x32 bitmaps are divided into nonoverlapping blocks of\n",
      "4x4 and the number of on pixels are counted in each block. This generates\n",
      "an input matrix of 8x8 where each element is an integer in the range\n",
      "0..16. This reduces dimensionality and gives invariance to small\n",
      "distortions.\n",
      "\n",
      "For info on NIST preprocessing routines, see M. D. Garris, J. L. Blue, G.\n",
      "T. Candela, D. L. Dimmick, J. Geist, P. J. Grother, S. A. Janet, and C.\n",
      "L. Wilson, NIST Form-Based Handprint Recognition System, NISTIR 5469,\n",
      "1994.\n",
      "\n",
      ".. topic:: References\n",
      "\n",
      "  - C. Kaynak (1995) Methods of Combining Multiple Classifiers and Their\n",
      "    Applications to Handwritten Digit Recognition, MSc Thesis, Institute of\n",
      "    Graduate Studies in Science and Engineering, Bogazici University.\n",
      "  - E. Alpaydin, C. Kaynak (1998) Cascading Classifiers, Kybernetika.\n",
      "  - Ken Tang and Ponnuthurai N. Suganthan and Xi Yao and A. Kai Qin.\n",
      "    Linear dimensionalityreduction using relevance weighted LDA. School of\n",
      "    Electrical and Electronic Engineering Nanyang Technological University.\n",
      "    2005.\n",
      "  - Claudio Gentile. A New Approximate Maximal Margin Classification\n",
      "    Algorithm. NIPS. 2000.\n",
      "\n"
     ]
    }
   ],
   "source": [
    "from sklearn.datasets import load_digits\n",
    "\n",
    "digits = load_digits(return_X_y=False)\n",
    "\n",
    "print(digits.DESCR)"
   ]
  },
  {
   "cell_type": "code",
   "execution_count": 19,
   "id": "ae498183",
   "metadata": {},
   "outputs": [
    {
     "data": {
      "text/plain": [
       "((1797, 64), (1797,))"
      ]
     },
     "execution_count": 19,
     "metadata": {},
     "output_type": "execute_result"
    }
   ],
   "source": [
    "# Loading data into feature matrix and target vector\n",
    "X = digits.data\n",
    "\n",
    "t = digits.target\n",
    "\n",
    "X.shape, t.shape"
   ]
  },
  {
   "cell_type": "code",
   "execution_count": 20,
   "id": "2e26129f",
   "metadata": {},
   "outputs": [
    {
     "data": {
      "text/plain": [
       "array([0, 1, 2, 3, 4, 5, 6, 7, 8, 9])"
      ]
     },
     "execution_count": 20,
     "metadata": {},
     "output_type": "execute_result"
    }
   ],
   "source": [
    "np.unique(t)"
   ]
  },
  {
   "cell_type": "markdown",
   "id": "96c0c387",
   "metadata": {},
   "source": [
    "**Answer the following questions:**\n",
    "\n",
    "1. **(2 points) Partition the dataset into training/test with random stratification using a 70/30 split.**"
   ]
  },
  {
   "cell_type": "code",
   "execution_count": 21,
   "id": "16044f24",
   "metadata": {},
   "outputs": [
    {
     "data": {
      "text/plain": [
       "((1257, 64), (540, 64), (1257,), (540,))"
      ]
     },
     "execution_count": 21,
     "metadata": {},
     "output_type": "execute_result"
    }
   ],
   "source": [
    "X_train, X_test, t_train, t_test = train_test_split(X, t, test_size=0.3, shuffle=True, stratify=t)\n",
    "\n",
    "X_train.shape, X_test.shape, t_train.shape, t_test.shape"
   ]
  },
  {
   "cell_type": "markdown",
   "id": "c9c03dd0",
   "metadata": {},
   "source": [
    "2. **(8 points) Perform dimensionality reduction with PCA and LDA. Justify all choices. (Be sure to applied any needed preprocessing.)**"
   ]
  },
  {
   "cell_type": "code",
   "execution_count": 22,
   "id": "15bdf511",
   "metadata": {},
   "outputs": [],
   "source": [
    "# Feature Scaling\n",
    "scaler = MinMaxScaler()\n",
    "scaler.fit(X_train)\n",
    "\n",
    "X_train = scaler.transform(X_train)\n",
    "X_test = scaler.transform(X_test)"
   ]
  },
  {
   "cell_type": "code",
   "execution_count": 23,
   "id": "ed4b9c3d",
   "metadata": {},
   "outputs": [
    {
     "name": "stdout",
     "output_type": "stream",
     "text": [
      "We need  22 PCs in order to explain at least 90% of the variance in the data\n"
     ]
    },
    {
     "data": {
      "text/plain": [
       "((1257, 22), (540, 22))"
      ]
     },
     "execution_count": 23,
     "metadata": {},
     "output_type": "execute_result"
    },
    {
     "data": {
      "image/png": "[encoded data removed]",
      "text/plain": [
       "<Figure size 432x288 with 1 Axes>"
      ]
     },
     "metadata": {
      "needs_background": "light"
     },
     "output_type": "display_data"
    }
   ],
   "source": [
    "pca = PCA(n_components=64)\n",
    "pca.fit(X_train)\n",
    "plt.scatter(range(64), 100*np.cumsum(pca.explained_variance_ratio_))\n",
    "plt.xlabel('PCs', size=20)\n",
    "plt.ylabel('Cumulative Explained \\n Variance, in %', size=20);\n",
    "\n",
    "num_PCs = np.where(np.cumsum(pca.explained_variance_ratio_)>=0.9)[0][0]\n",
    "print('We need ', num_PCs +1,\n",
    "     'PCs in order to explain at least 90% of the variance in the data')\n",
    "\n",
    "final_pca = PCA(n_components=num_PCs+1).fit(X_train)\n",
    "X_train_pca = final_pca.transform(X_train)\n",
    "X_test_pca = final_pca.transform(X_test)\n",
    "\n",
    "X_train_pca.shape, X_test_pca.shape"
   ]
  },
  {
   "cell_type": "code",
   "execution_count": 24,
   "id": "80ff89b2",
   "metadata": {},
   "outputs": [
    {
     "name": "stdout",
     "output_type": "stream",
     "text": [
      "We need  6 LDA projections in order to explain at 90% of the data\n"
     ]
    },
    {
     "data": {
      "text/plain": [
       "((1257, 6), (540, 6))"
      ]
     },
     "execution_count": 24,
     "metadata": {},
     "output_type": "execute_result"
    },
    {
     "data": {
      "image/png": "[encoded data removed]",
      "text/plain": [
       "<Figure size 432x288 with 1 Axes>"
      ]
     },
     "metadata": {
      "needs_background": "light"
     },
     "output_type": "display_data"
    }
   ],
   "source": [
    "lda = LDA(n_components=9)\n",
    "lda.fit(X_train, t_train)\n",
    "plt.scatter(range(9), 100*np.cumsum(lda.explained_variance_ratio_))\n",
    "plt.xlabel('LDs', size=20)\n",
    "plt.ylabel('Cumulative Explained \\n Variance, in %', size=20);\n",
    "\n",
    "num_LDs = np.where(np.cumsum(lda.explained_variance_ratio_)>=0.9)[0][0]\n",
    "print('We need ', num_LDs +1,\n",
    "     'LDA projections in order to explain at 90% of the data')\n",
    "\n",
    "final_lda = LDA(n_components=num_LDs+1).fit(X_train, t_train)\n",
    "X_train_lda = final_lda.transform(X_train)\n",
    "X_test_lda = final_lda.transform(X_test)\n",
    "\n",
    "X_train_lda.shape, X_test_lda.shape"
   ]
  },
  {
   "cell_type": "markdown",
   "id": "df5098fc",
   "metadata": {},
   "source": [
    "3. **(8 points) Implement the K-Nearest Neighbor (KNN) classifier on the PCA features and another KNN classifier on the LDA features. For each model, carry the complete experimental design to optimize for its hyperparameters (number of neighbors and type of ```weights```) using a 3-fold Stratified cross-validation scheme and the accuracy score as the performance measure.**"
   ]
  },
  {
   "cell_type": "code",
   "execution_count": 25,
   "id": "eb5a182b",
   "metadata": {},
   "outputs": [
    {
     "name": "stdout",
     "output_type": "stream",
     "text": [
      "{'KNN__n_neighbors': 5, 'KNN__weights': 'distance'}\n"
     ]
    }
   ],
   "source": [
    "knn_pca = Pipeline(steps=[('Scaling',MinMaxScaler()),\n",
    "                         ('PCA', PCA(n_components=num_PCs)),\n",
    "                         ('KNN', KNeighborsClassifier())])\n",
    "\n",
    "cv = StratifiedKFold(n_splits=3, shuffle=True)\n",
    "\n",
    "param_grid = dict(KNN__n_neighbors=np.arange(5,30),\n",
    "                 KNN__weights=['uniform', 'distance'])\n",
    "\n",
    "grid_search = GridSearchCV(knn_pca, param_grid, cv=cv, scoring='accuracy')\n",
    "grid_search.fit(X_train, t_train)\n",
    "\n",
    "print(grid_search.best_params_)\n",
    "\n",
    "final_knn_pca = grid_search.best_estimator_\n",
    "y_train_pca = final_knn_pca.predict(X_train)\n",
    "y_test_pca  = final_knn_pca.predict(X_test)"
   ]
  },
  {
   "cell_type": "code",
   "execution_count": 26,
   "id": "ed7d4f5c",
   "metadata": {},
   "outputs": [
    {
     "name": "stdout",
     "output_type": "stream",
     "text": [
      "{'KNN__n_neighbors': 10, 'KNN__weights': 'distance'}\n"
     ]
    }
   ],
   "source": [
    "knn_lda = Pipeline(steps=[('Scaling',MinMaxScaler()),\n",
    "                         ('LDA', LDA(n_components=num_LDs)),\n",
    "                         ('KNN', KNeighborsClassifier())])\n",
    "\n",
    "cv = StratifiedKFold(n_splits=3, shuffle=True)\n",
    "\n",
    "param_grid = dict(KNN__n_neighbors=np.arange(5,30),\n",
    "                 KNN__weights=['uniform', 'distance'])\n",
    "\n",
    "grid_search = GridSearchCV(knn_lda, param_grid, cv=cv, scoring='accuracy')\n",
    "grid_search.fit(X_train, t_train)\n",
    "\n",
    "print(grid_search.best_params_)\n",
    "\n",
    "final_knn_lda = grid_search.best_estimator_\n",
    "y_train_lda = final_knn_lda.predict(X_train)\n",
    "y_test_lda  = final_knn_lda.predict(X_test)"
   ]
  },
  {
   "cell_type": "markdown",
   "id": "0b85134f",
   "metadata": {},
   "source": [
    "4. **(2 points) Report the performance for each classifier. Which model performs the best? Discussion your observations.**"
   ]
  },
  {
   "cell_type": "code",
   "execution_count": 27,
   "id": "7ee4ecb6",
   "metadata": {},
   "outputs": [
    {
     "name": "stdout",
     "output_type": "stream",
     "text": [
      "PCA FEATURES\n",
      "Training Set \n",
      " Classification Report:\n",
      "              precision    recall  f1-score   support\n",
      "\n",
      "           0       1.00      1.00      1.00       124\n",
      "           1       1.00      1.00      1.00       127\n",
      "           2       1.00      1.00      1.00       124\n",
      "           3       1.00      1.00      1.00       128\n",
      "           4       1.00      1.00      1.00       127\n",
      "           5       1.00      1.00      1.00       127\n",
      "           6       1.00      1.00      1.00       127\n",
      "           7       1.00      1.00      1.00       125\n",
      "           8       1.00      1.00      1.00       122\n",
      "           9       1.00      1.00      1.00       126\n",
      "\n",
      "    accuracy                           1.00      1257\n",
      "   macro avg       1.00      1.00      1.00      1257\n",
      "weighted avg       1.00      1.00      1.00      1257\n",
      "\n",
      "\n",
      " Confusion Matrix: \n",
      "[[124   0   0   0   0   0   0   0   0   0]\n",
      " [  0 127   0   0   0   0   0   0   0   0]\n",
      " [  0   0 124   0   0   0   0   0   0   0]\n",
      " [  0   0   0 128   0   0   0   0   0   0]\n",
      " [  0   0   0   0 127   0   0   0   0   0]\n",
      " [  0   0   0   0   0 127   0   0   0   0]\n",
      " [  0   0   0   0   0   0 127   0   0   0]\n",
      " [  0   0   0   0   0   0   0 125   0   0]\n",
      " [  0   0   0   0   0   0   0   0 122   0]\n",
      " [  0   0   0   0   0   0   0   0   0 126]]\n",
      "\n",
      "\n",
      " ======== \n",
      "\n",
      " Test Set \n",
      " Classification Report\n",
      "              precision    recall  f1-score   support\n",
      "\n",
      "           0       1.00      1.00      1.00        54\n",
      "           1       1.00      0.96      0.98        55\n",
      "           2       1.00      1.00      1.00        53\n",
      "           3       1.00      1.00      1.00        55\n",
      "           4       1.00      0.98      0.99        54\n",
      "           5       0.98      0.98      0.98        55\n",
      "           6       0.98      1.00      0.99        54\n",
      "           7       0.98      1.00      0.99        54\n",
      "           8       0.98      1.00      0.99        52\n",
      "           9       1.00      1.00      1.00        54\n",
      "\n",
      "    accuracy                           0.99       540\n",
      "   macro avg       0.99      0.99      0.99       540\n",
      "weighted avg       0.99      0.99      0.99       540\n",
      "\n",
      "\n",
      " Confusion Matrix:\n",
      "[[54  0  0  0  0  0  0  0  0  0]\n",
      " [ 0 53  0  0  0  1  0  0  1  0]\n",
      " [ 0  0 53  0  0  0  0  0  0  0]\n",
      " [ 0  0  0 55  0  0  0  0  0  0]\n",
      " [ 0  0  0  0 53  0  0  1  0  0]\n",
      " [ 0  0  0  0  0 54  1  0  0  0]\n",
      " [ 0  0  0  0  0  0 54  0  0  0]\n",
      " [ 0  0  0  0  0  0  0 54  0  0]\n",
      " [ 0  0  0  0  0  0  0  0 52  0]\n",
      " [ 0  0  0  0  0  0  0  0  0 54]]\n"
     ]
    }
   ],
   "source": [
    "print('PCA FEATURES')\n",
    "print('Training Set \\n Classification Report:')\n",
    "print(classification_report(t_train, y_train_pca))\n",
    "print('\\n Confusion Matrix: ')\n",
    "print(confusion_matrix(t_train, y_train_pca))\n",
    "print('\\n\\n ======== \\n\\n Test Set \\n Classification Report')\n",
    "print(classification_report(t_test, y_test_pca))\n",
    "print('\\n Confusion Matrix:')\n",
    "print(confusion_matrix(t_test, y_test_pca))"
   ]
  },
  {
   "cell_type": "code",
   "execution_count": 28,
   "id": "b8d36d94",
   "metadata": {},
   "outputs": [
    {
     "name": "stdout",
     "output_type": "stream",
     "text": [
      "LDA FEATURES\n",
      "Training Set \n",
      " Classification Report:\n",
      "              precision    recall  f1-score   support\n",
      "\n",
      "           0       1.00      1.00      1.00       124\n",
      "           1       1.00      1.00      1.00       127\n",
      "           2       1.00      1.00      1.00       124\n",
      "           3       1.00      1.00      1.00       128\n",
      "           4       1.00      1.00      1.00       127\n",
      "           5       1.00      1.00      1.00       127\n",
      "           6       1.00      1.00      1.00       127\n",
      "           7       1.00      1.00      1.00       125\n",
      "           8       1.00      1.00      1.00       122\n",
      "           9       1.00      1.00      1.00       126\n",
      "\n",
      "    accuracy                           1.00      1257\n",
      "   macro avg       1.00      1.00      1.00      1257\n",
      "weighted avg       1.00      1.00      1.00      1257\n",
      "\n",
      "\n",
      " Confusion Matrix: \n",
      "[[124   0   0   0   0   0   0   0   0   0]\n",
      " [  0 127   0   0   0   0   0   0   0   0]\n",
      " [  0   0 124   0   0   0   0   0   0   0]\n",
      " [  0   0   0 128   0   0   0   0   0   0]\n",
      " [  0   0   0   0 127   0   0   0   0   0]\n",
      " [  0   0   0   0   0 127   0   0   0   0]\n",
      " [  0   0   0   0   0   0 127   0   0   0]\n",
      " [  0   0   0   0   0   0   0 125   0   0]\n",
      " [  0   0   0   0   0   0   0   0 122   0]\n",
      " [  0   0   0   0   0   0   0   0   0 126]]\n",
      "\n",
      "\n",
      " ======== \n",
      "\n",
      " Test Set \n",
      " Classification Report\n",
      "              precision    recall  f1-score   support\n",
      "\n",
      "           0       1.00      1.00      1.00        54\n",
      "           1       0.79      0.82      0.80        55\n",
      "           2       1.00      0.96      0.98        53\n",
      "           3       0.91      0.93      0.92        55\n",
      "           4       0.95      0.98      0.96        54\n",
      "           5       0.95      0.95      0.95        55\n",
      "           6       1.00      0.96      0.98        54\n",
      "           7       0.98      0.98      0.98        54\n",
      "           8       0.82      0.77      0.79        52\n",
      "           9       0.89      0.93      0.91        54\n",
      "\n",
      "    accuracy                           0.93       540\n",
      "   macro avg       0.93      0.93      0.93       540\n",
      "weighted avg       0.93      0.93      0.93       540\n",
      "\n",
      "\n",
      " Confusion Matrix:\n",
      "[[54  0  0  0  0  0  0  0  0  0]\n",
      " [ 0 45  0  0  2  0  0  0  7  1]\n",
      " [ 0  2 51  0  0  0  0  0  0  0]\n",
      " [ 0  0  0 51  0  2  0  0  0  2]\n",
      " [ 0  0  0  0 53  0  0  1  0  0]\n",
      " [ 0  0  0  2  0 52  0  0  1  0]\n",
      " [ 0  1  0  0  1  0 52  0  0  0]\n",
      " [ 0  0  0  0  0  0  0 53  0  1]\n",
      " [ 0  9  0  1  0  0  0  0 40  2]\n",
      " [ 0  0  0  2  0  1  0  0  1 50]]\n"
     ]
    }
   ],
   "source": [
    "print('LDA FEATURES')\n",
    "print('Training Set \\n Classification Report:')\n",
    "print(classification_report(t_train, y_train_lda))\n",
    "print('\\n Confusion Matrix: ')\n",
    "print(confusion_matrix(t_train, y_train_lda))\n",
    "print('\\n\\n ======== \\n\\n Test Set \\n Classification Report')\n",
    "print(classification_report(t_test, y_test_lda))\n",
    "print('\\n Confusion Matrix:')\n",
    "print(confusion_matrix(t_test, y_test_lda))"
   ]
  },
  {
   "cell_type": "markdown",
   "id": "7c810a71",
   "metadata": {},
   "source": [
    "PCA features have produced a better performance with the KNN classifier as indicated in the overall accuracy and confusion matrices."
   ]
  },
  {
   "cell_type": "markdown",
   "id": "0e4a9930",
   "metadata": {},
   "source": [
    "---"
   ]
  }
 ],
 "metadata": {
  "kernelspec": {
   "display_name": "Python 3 (ipykernel)",
   "language": "python",
   "name": "python3"
  },
  "language_info": {
   "codemirror_mode": {
    "name": "ipython",
    "version": 3
   },
   "file_extension": ".py",
   "mimetype": "text/x-python",
   "name": "python",
   "nbconvert_exporter": "python",
   "pygments_lexer": "ipython3",
   "version": "3.9.7"
  },
  "latex_envs": {
   "LaTeX_envs_menu_present": true,
   "autoclose": false,
   "autocomplete": true,
   "bibliofile": "biblio.bib",
   "cite_by": "apalike",
   "current_citInitial": 1,
   "eqLabelWithNumbers": true,
   "eqNumInitial": 1,
   "hotkeys": {
    "equation": "Ctrl-E",
    "itemize": "Ctrl-I"
   },
   "labels_anchors": false,
   "latex_user_defs": false,
   "report_style_numbering": false,
   "user_envs_cfg": false
  },
  "varInspector": {
   "cols": {
    "lenName": 16,
    "lenType": 16,
    "lenVar": 40
   },
   "kernels_config": {
    "python": {
     "delete_cmd_postfix": "",
     "delete_cmd_prefix": "del ",
     "library": "var_list.py",
     "varRefreshCmd": "print(var_dic_list())"
    },
    "r": {
     "delete_cmd_postfix": ") ",
     "delete_cmd_prefix": "rm(",
     "library": "var_list.r",
     "varRefreshCmd": "cat(var_dic_list()) "
    }
   },
   "types_to_exclude": [
    "module",
    "function",
    "builtin_function_or_method",
    "instance",
    "_Feature"
   ],
   "window_display": false
  }
 },
 "nbformat": 4,
 "nbformat_minor": 5
}
